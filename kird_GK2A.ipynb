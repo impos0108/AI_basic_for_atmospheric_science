{
 "cells": [
  {
   "cell_type": "markdown",
   "metadata": {},
   "source": [
    "## GK2A (https://nmsc.kma.go.kr/homepage/html/base/cmm/selectPage.do?page=static.satllite.introGk2a)"
   ]
  },
  {
   "cell_type": "code",
   "execution_count": null,
   "metadata": {},
   "outputs": [],
   "source": [
    "!apt-get install libproj-dev proj-data proj-bin\n",
    "!apt-get install libgeos-dev\n",
    "!pip install cython\n",
    "!pip install cartopy\n",
    "!pip uninstall shapely\n",
    "!pip install shapely --no-binary shapely\n",
    "!pip install netCDF4"
   ]
  },
  {
   "cell_type": "code",
   "execution_count": null,
   "metadata": {},
   "outputs": [],
   "source": [
    "import matplotlib.pyplot as plt\n",
    "import matplotlib.cm as cm\n",
    "from matplotlib.colors import BoundaryNorm\n",
    "from matplotlib.ticker import MaxNLocator\n",
    "from cartopy.mpl.gridliner import LONGITUDE_FORMATTER, LATITUDE_FORMATTER\n",
    "import matplotlib.ticker as mticker\n",
    "from mpl_toolkits.axes_grid1 import make_axes_locatable\n",
    "import warnings\n",
    "warnings.filterwarnings(action='ignore')"
   ]
  },
  {
   "cell_type": "code",
   "execution_count": null,
   "metadata": {},
   "outputs": [],
   "source": [
    "import numpy as np\n",
    "from netCDF4 import Dataset"
   ]
  },
  {
   "cell_type": "code",
   "execution_count": null,
   "metadata": {},
   "outputs": [],
   "source": [
    "from google.colab import drive\n",
    "drive.mount('/content/drive')"
   ]
  },
  {
   "cell_type": "code",
   "execution_count": null,
   "metadata": {},
   "outputs": [],
   "source": [
    "nc_path='/content/drive/MyDrive/Colab Notebooks/'\n",
    "nc_fname='gk2a_ami_le1b_ir105_ea020lc_202104010000.nc'\n",
    "\n",
    "nc=Dataset(nc_path+nc_fname,'r', format='netcdf4')\n",
    "print(nc)"
   ]
  },
  {
   "cell_type": "code",
   "execution_count": null,
   "metadata": {},
   "outputs": [],
   "source": [
    "ncdata=nc['image_pixel_values'] #data=nc.variables['image_pixel_values']와 같음\n",
    "print(ncdata)"
   ]
  },
  {
   "cell_type": "code",
   "execution_count": null,
   "metadata": {},
   "outputs": [],
   "source": [
    "data=nc.variables['image_pixel_values'][:,:]\n",
    "print(data)"
   ]
  },
  {
   "cell_type": "code",
   "execution_count": null,
   "metadata": {},
   "outputs": [],
   "source": [
    "data_1d=data.flatten()\n",
    "plt.hist(data_1d, bins=range(np.min(data),np.max(data), 100))\n",
    "plt.show()"
   ]
  },
  {
   "cell_type": "code",
   "execution_count": null,
   "metadata": {},
   "outputs": [],
   "source": [
    "mask = 0b0001111111111111 #13bit mask\n",
    "ipixel_process_masked=np.bitwise_and(data,mask)\n",
    "np.bitwise_and(13, 17) \n",
    "\n",
    "#숫자 13은 00001101 로 표시됩니다 . 마찬가지로 17은 00010001 로 표시됩니다 .\n",
    "#따라서 13과 17의 비트 AND는 000000001 또는 1입니다."
   ]
  },
  {
   "cell_type": "code",
   "execution_count": null,
   "metadata": {},
   "outputs": [],
   "source": [
    "CT_path='/content/drive/MyDrive/Colab Notebooks/ct_table/'\n",
    "AL_postfix='_con_alb.txt'\n",
    "BT_postfix='_con_bt.txt'\n",
    "\n",
    "channel=ncdata.getncattr('channel_name')\n",
    "print(channel)\n",
    "\n",
    "conversion_table=np.loadtxt(CT_path+channel+BT_postfix,'float64')\n",
    "data_converted=conversion_table[ipixel_process_masked]\n",
    "data_converted.shape, np.min(data_converted), np.max(data_converted)"
   ]
  },
  {
   "cell_type": "code",
   "execution_count": null,
   "metadata": {},
   "outputs": [],
   "source": [
    "plt.hist(data_converted.flatten(), bins=range(200, 301, 1))"
   ]
  },
  {
   "cell_type": "code",
   "execution_count": null,
   "metadata": {},
   "outputs": [],
   "source": [
    "plt.imshow(data, cmap='gray')\n",
    "plt.show()"
   ]
  },
  {
   "cell_type": "code",
   "execution_count": null,
   "metadata": {},
   "outputs": [],
   "source": [
    "plt.imshow(data_converted, cmap='Greys')\n",
    "plt.show()"
   ]
  },
  {
   "cell_type": "code",
   "execution_count": null,
   "metadata": {},
   "outputs": [],
   "source": [
    "import cartopy\n",
    "import cartopy.crs as ccrs\n",
    "import cartopy.feature as cf\n",
    "from cartopy.mpl.gridliner import LONGITUDE_FORMATTER, LATITUDE_FORMATTER"
   ]
  },
  {
   "cell_type": "code",
   "execution_count": null,
   "metadata": {},
   "outputs": [],
   "source": [
    "geo_name='gk2a_latlon_ea_2000.bin'\n",
    "\n",
    "with open(nc_path+geo_name,'rb') as f:\n",
    "    nx, ny =  3000, 2600\n",
    "    latlon = np.fromfile(f, dtype='float', count=nx*ny*2)\n",
    "\n",
    "print(latlon.shape)\n",
    "\n",
    "latlon=np.reshape(latlon, (ny,nx,2))\n",
    "\n",
    "lat_arr=latlon[:,:,0]\n",
    "lon_arr=latlon[:,:,1]\n",
    "\n",
    "np.min(lat_arr[:,0]), np.min(lat_arr[:,1]), np.max(lat_arr), np.min(lon_arr), np.max(lon_arr)"
   ]
  },
  {
   "cell_type": "code",
   "execution_count": null,
   "metadata": {},
   "outputs": [],
   "source": [
    "fig = plt.figure(figsize=(10,10))\n",
    "\n",
    "p = ccrs.LambertConformal(central_longitude=126, central_latitude=38.0,globe=None)\n",
    "ax = plt.axes(projection=p)\n",
    "cf1 = ax.pcolormesh(lon_arr, lat_arr, data_converted, cmap='Greys', transform=ccrs.PlateCarree())\n",
    "ax.coastlines()\n",
    "\n",
    "ax.set_extent([110,140,20,50])\n",
    "ax.set_title(\"GK2A_Lv1B_\"+channel, size='xx-large')\n",
    "\n",
    "cbar = plt.colorbar(cf1, orientation=\"vertical\", pad=0.1,shrink=0.8)\n",
    "cbar.set_label('K', size='x-large')\n",
    "\n",
    "gl=ax.gridlines(draw_labels=True,x_inline=False, y_inline=False)\n",
    "gl.xlabels_top = False\n",
    "gl.ylabels_left = False\n",
    "gl.xformatter = LONGITUDE_FORMATTER\n",
    "gl.yformatter = LATITUDE_FORMATTER\n",
    "gl.xlabel_style = {'size': 12}\n",
    "gl.ylabel_style = {'size': 12}\n",
    "plt.show()"
   ]
  }
 ],
 "metadata": {
  "kernelspec": {
   "display_name": "Python 3",
   "language": "python",
   "name": "python3"
  },
  "language_info": {
   "codemirror_mode": {
    "name": "ipython",
    "version": 3
   },
   "file_extension": ".py",
   "mimetype": "text/x-python",
   "name": "python",
   "nbconvert_exporter": "python",
   "pygments_lexer": "ipython3",
   "version": "3.7.6"
  }
 },
 "nbformat": 4,
 "nbformat_minor": 4
}
